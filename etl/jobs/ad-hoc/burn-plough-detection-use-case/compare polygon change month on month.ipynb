{
	"metadata": {
		"kernelspec": {
			"name": "glue_pyspark",
			"display_name": "Glue PySpark",
			"language": "python"
		},
		"language_info": {
			"name": "Python_Glue_Session",
			"mimetype": "text/x-python",
			"codemirror_mode": {
				"name": "python",
				"version": 3
			},
			"pygments_lexer": "python3",
			"file_extension": ".py"
		}
	},
	"nbformat_minor": 4,
	"nbformat": 4,
	"cells": [
		{
			"cell_type": "markdown",
			"source": "# AWS Glue Studio Notebook\n##### You are now running a AWS Glue Studio notebook; To start using your notebook you need to start an AWS Glue Interactive Session.\n",
			"metadata": {
				"editable": true,
				"trusted": true
			}
		},
		{
			"cell_type": "markdown",
			"source": "#### Optional: Run this cell to see available notebook commands (\"magics\").\n",
			"metadata": {
				"editable": true,
				"trusted": true
			}
		},
		{
			"cell_type": "code",
			"source": "%help",
			"metadata": {
				"trusted": true,
				"editable": true
			},
			"execution_count": 6,
			"outputs": [
				{
					"output_type": "display_data",
					"data": {
						"text/markdown": "\n# Available Magic Commands\n\n## Sessions Magic\n\n----\n    %help                             Return a list of descriptions and input types for all magic commands. \n    %profile            String        Specify a profile in your aws configuration to use as the credentials provider.\n    %region             String        Specify the AWS region in which to initialize a session. \n                                      Default from ~/.aws/config on Linux or macOS, \n                                      or C:\\Users\\ USERNAME \\.aws\\config\" on Windows.\n    %idle_timeout       Int           The number of minutes of inactivity after which a session will timeout. \n                                      Default: 2880 minutes (48 hours).\n    %session_id_prefix  String        Define a String that will precede all session IDs in the format \n                                      [session_id_prefix]-[session_id]. If a session ID is not provided,\n                                      a random UUID will be generated.\n    %status                           Returns the status of the current Glue session including its duration, \n                                      configuration and executing user / role.\n    %session_id                       Returns the session ID for the running session. \n    %list_sessions                    Lists all currently running sessions by ID.\n    %stop_session                     Stops the current session.\n    %glue_version       String        The version of Glue to be used by this session. \n                                      Currently, the only valid options are 2.0, 3.0 and 4.0. \n                                      Default: 2.0.\n----\n\n## Selecting Session Types\n\n----\n    %streaming          String        Sets the session type to Glue Streaming.\n    %etl                String        Sets the session type to Glue ETL.\n    %glue_ray           String        Sets the session type to Glue Ray.\n    %session_type       String        Specify a session_type to be used. Supported values: streaming, etl and glue_ray. \n----\n\n## Glue Config Magic \n*(common across all session types)*\n\n----\n\n    %%configure         Dictionary    A json-formatted dictionary consisting of all configuration parameters for \n                                      a session. Each parameter can be specified here or through individual magics.\n    %iam_role           String        Specify an IAM role ARN to execute your session with.\n                                      Default from ~/.aws/config on Linux or macOS, \n                                      or C:\\Users\\%USERNAME%\\.aws\\config` on Windows.\n    %number_of_workers  int           The number of workers of a defined worker_type that are allocated \n                                      when a session runs.\n                                      Default: 5.\n    %additional_python_modules  List  Comma separated list of additional Python modules to include in your cluster \n                                      (can be from Pypi or S3).\n    %%tags        Dictionary          Specify a json-formatted dictionary consisting of tags to use in the session.\n    \n    %%assume_role Dictionary, String  Specify a json-formatted dictionary or an IAM role ARN string to create a session \n                                      for cross account access.\n                                      E.g. {valid arn}\n                                      %%assume_role \n                                      'arn:aws:iam::XXXXXXXXXXXX:role/AWSGlueServiceRole' \n                                      E.g. {credentials}\n                                      %%assume_role\n                                      {\n                                            \"aws_access_key_id\" : \"XXXXXXXXXXXX\",\n                                            \"aws_secret_access_key\" : \"XXXXXXXXXXXX\",\n                                            \"aws_session_token\" : \"XXXXXXXXXXXX\"\n                                       }\n----\n\n                                      \n## Magic for Spark Sessions (ETL & Streaming)\n\n----\n    %worker_type        String        Set the type of instances the session will use as workers. \n    %connections        List          Specify a comma separated list of connections to use in the session.\n    %extra_py_files     List          Comma separated list of additional Python files From S3.\n    %extra_jars         List          Comma separated list of additional Jars to include in the cluster.\n    %spark_conf         String        Specify custom spark configurations for your session. \n                                      E.g. %spark_conf spark.serializer=org.apache.spark.serializer.KryoSerializer\n----\n                                      \n## Magic for Ray Session\n\n----\n    %min_workers        Int           The minimum number of workers that are allocated to a Ray session. \n                                      Default: 1.\n    %object_memory_head Int           The percentage of free memory on the instance head node after a warm start. \n                                      Minimum: 0. Maximum: 100.\n    %object_memory_worker Int         The percentage of free memory on the instance worker nodes after a warm start. \n                                      Minimum: 0. Maximum: 100.\n----\n\n## Action Magic\n\n----\n\n    %%sql               String        Run SQL code. All lines after the initial %%sql magic will be passed\n                                      as part of the SQL code.  \n    %matplot      Matplotlib figure   Visualize your data using the matplotlib library.\n                                      E.g. \n                                      import matplotlib.pyplot as plt\n                                      # Set X-axis and Y-axis values\n                                      x = [5, 2, 8, 4, 9]\n                                      y = [10, 4, 8, 5, 2]\n                                      # Create a bar chart \n                                      plt.bar(x, y) \n                                      # Show the plot\n                                      %matplot plt    \n    %plotly            Plotly figure  Visualize your data using the plotly library.\n                                      E.g.\n                                      import plotly.express as px\n                                      #Create a graphical figure\n                                      fig = px.line(x=[\"a\",\"b\",\"c\"], y=[1,3,2], title=\"sample figure\")\n                                      #Show the figure\n                                      %plotly fig\n\n  \n                \n----\n\n"
					},
					"metadata": {}
				}
			]
		},
		{
			"cell_type": "markdown",
			"source": "####  Run this cell to set up and start your interactive session.\n",
			"metadata": {
				"editable": true,
				"tags": [],
				"trusted": true
			}
		},
		{
			"cell_type": "code",
			"source": "%idle_timeout 2880\n%glue_version 4.0\n%worker_type G.1X\n%number_of_workers 5\n\nimport sys\nfrom awsglue.transforms import *\nfrom awsglue.utils import getResolvedOptions\nfrom pyspark.context import SparkContext\nfrom awsglue.context import GlueContext\nfrom awsglue.job import Job\n  \nsc = SparkContext.getOrCreate()\nglueContext = GlueContext(sc)\nspark = glueContext.spark_session\njob = Job(glueContext)",
			"metadata": {
				"trusted": true,
				"editable": true
			},
			"execution_count": 1,
			"outputs": [
				{
					"name": "stdout",
					"text": "Welcome to the Glue Interactive Sessions Kernel\nFor more information on available magic commands, please type %help in any new cell.\n\nPlease view our Getting Started page to access the most up-to-date information on the Interactive Sessions kernel: https://docs.aws.amazon.com/glue/latest/dg/interactive-sessions.html\nInstalled kernel version: 1.0.5 \nCurrent idle_timeout is None minutes.\nidle_timeout has been set to 2880 minutes.\nSetting Glue version to: 4.0\nPrevious worker type: None\nSetting new worker type to: G.1X\nPrevious number of workers: None\nSetting new number of workers to: 5\nTrying to create a Glue session for the kernel.\nSession Type: glueetl\nWorker Type: G.1X\nNumber of Workers: 5\nIdle Timeout: 2880\nSession ID: 59416c4d-46d1-45ff-81bb-eea020bf8841\nApplying the following default arguments:\n--glue_kernel_version 1.0.5\n--enable-glue-datacatalog true\nWaiting for session 59416c4d-46d1-45ff-81bb-eea020bf8841 to get into ready status...\nSession 59416c4d-46d1-45ff-81bb-eea020bf8841 has been created.\n\n",
					"output_type": "stream"
				}
			]
		},
		{
			"cell_type": "markdown",
			"source": "#### Example: Create a DynamicFrame from a table in the AWS Glue Data Catalog and display its schema\n",
			"metadata": {
				"editable": true,
				"trusted": true
			}
		},
		{
			"cell_type": "code",
			"source": "dyf = glueContext.create_dynamic_frame.from_catalog(database='database_name', table_name='table_name')\ndyf.printSchema()",
			"metadata": {
				"trusted": true,
				"editable": true
			},
			"execution_count": null,
			"outputs": []
		},
		{
			"cell_type": "markdown",
			"source": "#### Example: Convert the DynamicFrame to a Spark DataFrame and display a sample of the data\n",
			"metadata": {
				"editable": true,
				"trusted": true
			}
		},
		{
			"cell_type": "code",
			"source": "df = dyf.toDF()\ndf.show()",
			"metadata": {
				"trusted": true,
				"editable": true
			},
			"execution_count": null,
			"outputs": []
		},
		{
			"cell_type": "markdown",
			"source": "#### Get previous months activity\n",
			"metadata": {
				"editable": true,
				"trusted": true
			}
		},
		{
			"cell_type": "code",
			"source": "%%sql\nSELECT a.*, b.*\nFROM statsdb.aggregated_monthly_test_20240424 as a\n    inner join statsdb.aggregated_monthly_test_20240424 as b\n    on a.polyid = b.polyid\n        and (cast(a.month as int) > 1 and cast(a.year as int) = cast(b.year as int) and cast(b.month as int) = cast(a.month as int) - 1) \n        or (b.month = '12' and cast(b.year as int) = cast(a.year as int) - 1)\nWHERE a.framework='spaceint_cairngorms'\nlimit 10;;",
			"metadata": {
				"trusted": true,
				"tags": []
			},
			"execution_count": null,
			"outputs": []
		},
		{
			"cell_type": "code",
			"source": "#### date based computation",
			"metadata": {},
			"execution_count": null,
			"outputs": []
		},
		{
			"cell_type": "code",
			"source": "%%sql\nselect a.*, b.* \nfrom statsdb.aggregated_monthly_test_20240424 as a\n    inner join statsdb.aggregated_monthly_test_20240424 as b on a.framework = b.framework \n    and a.polyid = b.polyid \n    and add_months(make_date(a.year, a.month, 1), -1) = make_date(b.year, b.month, 1)\nwhere a.year = 2021\nand a.framework = 'spaceint_cairngorms'\nlimit 10",
			"metadata": {
				"trusted": true,
				"tags": []
			},
			"execution_count": null,
			"outputs": [
				{
					"name": "stdout",
					"text": "Execution Interrupted. Attempting to cancel the statement (statement_id=2)\n",
					"output_type": "stream"
				}
			]
		},
		{
			"cell_type": "code",
			"source": "#### use date col",
			"metadata": {},
			"execution_count": null,
			"outputs": []
		},
		{
			"cell_type": "code",
			"source": "%%sql\nselect a.*, b.* \nfrom statsdb.aggregated_monthly_test_20240509 as a\n    inner join statsdb.aggregated_monthly_test_20240509 as b on a.framework = b.framework and b.periodstartdate = add_months(a.periodstartdate, -1)\nwhere a.year = 2021\nand a.framework = 'spaceint_cairngorms'\nlimit 10",
			"metadata": {
				"trusted": true,
				"tags": []
			},
			"execution_count": null,
			"outputs": []
		},
		{
			"cell_type": "code",
			"source": "",
			"metadata": {},
			"execution_count": null,
			"outputs": []
		},
		{
			"cell_type": "code",
			"source": "%%sql\nselect a.*, b.* \nfrom statsdb.aggregated_monthly_test_20240510 as a\n    inner join statsdb.aggregated_monthly_test_20240510 as b on a.framework = b.framework \n    and a.polyid = b.polyid\n    and a.indexname = b.indexname\n    and b.periodstartdate = add_months(a.periodstartdate, -1)\nwhere a.year = 2021\nand a.framework = 'spaceint_cairngorms'\nlimit 10",
			"metadata": {
				"trusted": true,
				"tags": [],
				"collapsed": true,
				"jupyter": {
					"outputs_hidden": true
				}
			},
			"execution_count": 2,
			"outputs": [
				{
					"name": "stdout",
					"text": "+----+-----+-----+-------------+---------+------+----------+------+--------------------+--------------------+--------+--------------------+-------------------+--------------------+--------------------+------------+----------+-------------------+-------------------+-------------------+---------------+----+-----+-----+-------------+---------+------+----------+------+--------------------+--------------------+--------+--------------------+-------------------+--------------------+-------------------+------------+-----------+-------------------+-------------------+-------------------+---------------+\n|year|month|count|frameworkzone|indexname|polyid|seasonyear|season|                date|               frame|platform|             habitat|               mean|                  sd|              median|         min|       max|                 q1|                 q3|          framework|periodstartdate|year|month|count|frameworkzone|indexname|polyid|seasonyear|season|                date|               frame|platform|             habitat|               mean|                  sd|             median|         min|        max|                 q1|                 q3|          framework|periodstartdate|\n+----+-----+-----+-------------+---------+------+----------+------+--------------------+--------------------+--------+--------------------+-------------------+--------------------+--------------------+------------+----------+-------------------+-------------------+-------------------+---------------+----+-----+-----+-------------+---------+------+----------+------+--------------------+--------------------+--------+--------------------+-------------------+--------------------+-------------------+------------+-----------+-------------------+-------------------+-------------------+---------------+\n|2021|   08|    2|            1|     NDVI|     1|      2021|summer|[20210818, 20210825]|[S2A_20210818_lat...|      S2|D1 - Raised and b...| 0.7190512418746948| 0.03681647777557373|  0.7184962034225464|         0.6| 0.8427673| 0.6924883425235748| 0.7430430352687836|spaceint_cairngorms|     2021-08-01|2021|   07|    2|            1|     NDVI|     1|      2021|summer|[20210721, 20210719]|[S2B_20210721_lat...|      S2|D1 - Raised and b...| 0.7095739245414734|0.038886772468686104| 0.7113489806652069|  0.58433735| 0.82245433| 0.6856885850429535| 0.7363182902336121|spaceint_cairngorms|     2021-07-01|\n|2021|   07|    1|            1|     NDVI|   100|      2021|summer|          [20210721]|[S2B_20210721_lat...|      S2|C - Inland surfac...| 0.5509564876556396| 0.14257921278476715|  0.5882353186607361|  -0.1754386| 0.7948718| 0.5480556488037109| 0.6279069781303406|spaceint_cairngorms|     2021-07-01|2021|   06|    1|            1|     NDVI|   100|      2021|summer|          [20210629]|[S2A_20210629_lat...|      S2|C - Inland surfac...|0.19210000336170197| 0.08042284846305847|0.19629034399986267| -0.30769232| 0.66906476|0.15789473056793213|0.22727273404598236|spaceint_cairngorms|     2021-06-01|\n|2021|   06|    1|            1|     NDMI| 10000|      2021|summer|          [20210629]|[S2A_20210629_lat...|      S2|D1 - Raised and b...|0.03726096451282501|  0.0409763902425766|0.043478261679410934|-0.072874494|0.14599685|0.01584790088236332|0.06326878070831299|spaceint_cairngorms|     2021-06-01|2021|   05|    2|            1|     NDMI| 10000|      2021|spring|[20210512, 20210530]|[S2B_20210512_lat...|      S2|D1 - Raised and b...|0.12747424375265837| 0.06155013479292393| 0.1345002893358469| -0.16556291| 0.46341464|0.09797151573002338|0.16765114571899176|spaceint_cairngorms|     2021-05-01|\n|2021|   04|    4|            1|     NDVI|100001|      2021|spring|[20210415, 202104...|[S2B_20210415_lat...|      S2|D1 - Raised and b...| 0.5316703021526337| 0.03741558827459812|  0.5390314012765884|  0.38969073| 0.6152019| 0.5176015049219131| 0.5575652718544006|spaceint_cairngorms|     2021-04-01|2021|   03|    1|            1|     NDVI|100001|      2021|spring|          [20210321]|[S2A_20210321_lat...|      S2|D1 - Raised and b...|   0.50123131275177| 0.03417861461639404| 0.5069767236709595|   0.3686636| 0.56632656| 0.4880523681640625| 0.5223842859268188|spaceint_cairngorms|     2021-03-01|\n|2021|   09|    1|            1|      NBR|100002|      2021|autumn|          [20210902]|[S2B_20210902_lat...|      S2|F4 - Temperate sh...| 0.5482333898544312| 0.03232499957084656|  0.5543472766876221|  0.39664805| 0.6282528| 0.5359718203544617| 0.5691523551940918|spaceint_cairngorms|     2021-09-01|2021|   08|    2|            1|      NBR|100002|      2021|summer|[20210818, 20210825]|[S2A_20210818_lat...|      S2|F4 - Temperate sh...| 0.5645520091056824|0.037723543122410774| 0.5712532699108124|  0.40700808| 0.66785717| 0.5507645606994629| 0.5852672457695007|spaceint_cairngorms|     2021-08-01|\n|2021|   08|    2|            1|     NDMI|100002|      2021|summer|[20210825, 20210818]|[S2A_20210825_lat...|      S2|F4 - Temperate sh...| 0.2661161720752716|0.041358718648552895| 0.27235305309295654| 0.074074075| 0.3837037| 0.2515948489308357| 0.2895219027996063|spaceint_cairngorms|     2021-08-01|2021|   07|    3|            1|     NDMI|100002|      2021|summer|[20210719, 202107...|[S2A_20210719_lat...|      S2|F4 - Temperate sh...| 0.2232965479294459| 0.04528207704424858|0.22537792225678763| 0.008695652| 0.36647728|0.19801919162273407|0.25061644117037457|spaceint_cairngorms|     2021-07-01|\n|2021|   07|    3|            1|     NDWI|100003|      2021|summer|[20210701, 202107...|[S2B_20210701_lat...|      S2|F4 - Temperate sh...|-0.7035531401634216| 0.02560460598518451| -0.7108315030733744|  -0.7879418| -0.485064|-0.7235861221949259|-0.6879725456237793|spaceint_cairngorms|     2021-07-01|2021|   06|    1|            1|     NDWI|100003|      2021|summer|          [20210629]|[S2A_20210629_lat...|      S2|F4 - Temperate sh...| -0.679186999797821|  0.0140306381508708|-0.6808547973632812|  -0.7069409|-0.62536025|-0.6882054209709167|-0.6721113920211792|spaceint_cairngorms|     2021-06-01|\n|2021|   09|    1|            1|      NBR|100004|      2021|autumn|          [20210902]|[S2B_20210902_lat...|      S2|F4 - Temperate sh...|  0.502409040927887|0.019871653988957405|  0.4989648163318634|  0.45050505|0.55307263| 0.4903215169906616| 0.5150784254074097|spaceint_cairngorms|     2021-09-01|2021|   08|    4|            1|      NBR|100004|      2021|summer|[20210818, 202108...|[S2A_20210818_lat...|      S2|F4 - Temperate sh...| 0.5632584765553474|0.030668633058667183| 0.5580527111887932|  0.43220338| 0.76536316| 0.5445570647716522| 0.5752106457948685|spaceint_cairngorms|     2021-08-01|\n|2021|   07|    4|            1|     NDMI|100004|      2021|summer|[20210716, 202107...|[S2A_20210716_lat...|      S2|F4 - Temperate sh...|0.18723517283797264|0.037647151155397296|  0.1824711710214615| 0.053968254|0.32673267|0.16000156477093697|0.20787227526307106|spaceint_cairngorms|     2021-07-01|2021|   06|    2|            1|     NDMI|100004|      2021|summer|[20210601, 20210614]|[S2B_20210601_lat...|      S2|F4 - Temperate sh...|0.14404655003454536| 0.04937177523970604|0.12923756521195173|-0.074542895| 0.39506173| 0.1082209087908268|0.16276986245065928|spaceint_cairngorms|     2021-06-01|\n|2021|   09|    1|            1|      NBR|100005|      2021|autumn|          [20210902]|[S2B_20210902_lat...|      S2|F4 - Temperate sh...| 0.5780362486839294| 0.03732822462916374|   0.575534462928772|   0.4726841| 0.6685083|  0.550732433795929| 0.6029962301254272|spaceint_cairngorms|     2021-09-01|2021|   08|    4|            1|      NBR|100005|      2021|summer|[20210803, 202108...|[S2B_20210803_lat...|      S2|F4 - Temperate sh...| 0.6250463575124741| 0.05187225341796875| 0.6282310783863068|  0.32777777| 0.84090906| 0.5907590240240097| 0.6617423295974731|spaceint_cairngorms|     2021-08-01|\n+----+-----+-----+-------------+---------+------+----------+------+--------------------+--------------------+--------+--------------------+-------------------+--------------------+--------------------+------------+----------+-------------------+-------------------+-------------------+---------------+----+-----+-----+-------------+---------+------+----------+------+--------------------+--------------------+--------+--------------------+-------------------+--------------------+-------------------+------------+-----------+-------------------+-------------------+-------------------+---------------+\n",
					"output_type": "stream"
				}
			]
		},
		{
			"cell_type": "code",
			"source": "%%sql\nselect a.year,\n    a.month,\n    a.periodstartdate,\n    a.framework,\n    a.frameworkzone,\n    a.polyid,\n    a.seasonyear,\n    a.season,\n    a.platform,\n    a.habitat,\n    array_union(a.date, b.date) as dates,\n    array_union(a.frame, b.frame) as frames,\n    (a.mean - b.mean)/2 as pm_mean_change,\n    (a.sd - b.sd)/2 as pm_sd_change,\n    (a.median - b.median)/2 as pm_median_change,\n    (a.min - b.min)/2 as pm_min_change,\n    (a.max - b.max)/2 as pm_max_change,\n    (a.q1 - b.q1)/2 as pm_q1_change,\n    (a.q3 - b.q3)/2 as pm_q3_change\nfrom statsdb.aggregated_monthly_test_burn_plough_test as a\n    inner join statsdb.aggregated_monthly_test_burn_plough_test as b on a.framework = b.framework \n    and a.polyid = b.polyid\n    and a.indexname = b.indexname\n    and b.periodstartdate = add_months(a.periodstartdate, -1)\nwhere a.platform = 'S2'\nand a.framework = 'liveng1'\nlimit 10",
			"metadata": {
				"trusted": true,
				"tags": []
			},
			"execution_count": null,
			"outputs": [
				{
					"name": "stdout",
					"text": "+----+-----+---------------+---------+-------------+--------+----------+------+--------+-------+--------------------+--------------------+--------------------+--------------------+--------------------+--------------------+--------------------+--------------------+--------------------+\n|year|month|periodstartdate|framework|frameworkzone|  polyid|seasonyear|season|platform|habitat|               dates|              frames|      pm_mean_change|        pm_sd_change|    pm_median_change|       pm_min_change|       pm_max_change|        pm_q1_change|        pm_q3_change|\n+----+-----+---------------+---------+-------------+--------+----------+------+--------+-------+--------------------+--------------------+--------------------+--------------------+--------------------+--------------------+--------------------+--------------------+--------------------+\n|2017|   07|     2017-07-01|  liveng1|           10|10046143|      2017|summer|      S2|  Water|[20170731, 20170611]|[S2A_20170731_lat...|0.030702829360961914|-0.00302154198288...|0.027857497334480286|0.012138187885284424|0.041919171810150146|0.036536261439323425|0.026415109634399414|\n|2021|   08|     2021-08-01|  liveng1|           10|10046143|      2021|summer|      S2|  Water|[20210824, 20210720]|[S2B_20210824_lat...| 0.07747608423233032|0.040029797703027725| 0.08305349946022034|-0.00561797758564353|  0.1524038314819336|0.029261335730552673| 0.10367783904075623|\n|2022|   04|     2022-04-01|  liveng1|           10|10046143|      2022|spring|      S2|  Water|[20220421, 202204...|[S2B_20220421_lat...|-0.00951844826340...|-5.61468303203582...|-0.01004262268543...|-0.04946270585060...|0.006986349821090698|-0.00974820926785469|-0.00516480207443...|\n|2022|   08|     2022-08-01|  liveng1|           10|10046143|      2022|summer|      S2|  Water|[20220809, 202207...|[S2B_20220809_lat...|-0.03009699657559395|0.012566966935992241|-0.03213797882199...|0.017668604850769043|-0.05756866931915283|-0.04049242287874222|-0.03105965256690979|\n|2017|   05|     2017-05-01|  liveng1|           10|10046143|      2017|spring|      S2|  Water|[20170522, 20170412]|[S2A_20170522_lat...|-0.18209008499979973|-0.03220981452614069| -0.1938666794449091|-0.08409090340137482|-0.22508345544338226|-0.16940753534436226| -0.2078038500621915|\n|2017|   06|     2017-06-01|  liveng1|           10|10046143|      2017|summer|      S2|  Water|[20170611, 20170522]|[S2A_20170611_lat...| 0.23208853043615818|0.017840449698269367| 0.24076034873723984|  0.1291062831878662| 0.24528548121452332|  0.2268636766821146| 0.24589354172348976|\n|2019|   07|     2019-07-01|  liveng1|           10|10046143|      2019|summer|      S2|  Water|[20190723, 20190616]|[S2B_20190723_lat...|-0.00577725842595...|-6.61909580230712...|-0.01136950962245...|-0.04611074924468994|-0.02766531333327...|0.002888789400458336|-0.01053639873862...|\n|2019|   10|     2019-10-01|  liveng1|           10|10046144|      2019|autumn|      S2|  Water|[20191009, 201910...|[S2A_20191009_lat...|-0.00551304221153...|-0.00713192174832...|-0.00895565748214...| 0.02693292498588562|-0.02637720108032...|-0.00329554080963...|-0.00742926200230...|\n|2021|   10|     2021-10-01|  liveng1|           10|10046144|      2021|autumn|      S2|  Water|[20211003, 202109...|[S2B_20211003_lat...| -0.0887608453631401| 0.04159942641854286|-0.10705398768186569|-0.02574485540390...|-0.03344970941543579|-0.15311172604560852|-0.03236298263072...|\n|2017|   07|     2017-07-01|  liveng1|           10|10046144|      2017|summer|      S2|  Water|[20170731, 20170611]|[S2A_20170731_lat...|0.059000495821237564|-0.00535651668906...| 0.06697231531143188|0.019242707639932632|-0.02867875993251...|0.055041320621967316| 0.06425703316926956|\n+----+-----+---------------+---------+-------------+--------+----------+------+--------+-------+--------------------+--------------------+--------------------+--------------------+--------------------+--------------------+--------------------+--------------------+--------------------+\n",
					"output_type": "stream"
				}
			]
		},
		{
			"cell_type": "code",
			"source": "",
			"metadata": {},
			"execution_count": null,
			"outputs": []
		}
	]
}